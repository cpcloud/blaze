{
 "cells": [
  {
   "cell_type": "code",
   "execution_count": 1,
   "metadata": {
    "collapsed": true
   },
   "outputs": [],
   "source": [
    "from blaze import Data, compute, by, join, merge, transform"
   ]
  },
  {
   "cell_type": "code",
   "execution_count": 2,
   "metadata": {
    "collapsed": true
   },
   "outputs": [],
   "source": [
    "d = Data('postgresql://localhost/tpc')"
   ]
  },
  {
   "cell_type": "code",
   "execution_count": 3,
   "metadata": {
    "collapsed": false
   },
   "outputs": [
    {
     "data": {
      "text/plain": [
       "['customer',\n",
       " 'lineitem',\n",
       " 'nation',\n",
       " 'orders',\n",
       " 'part',\n",
       " 'partsupp',\n",
       " 'region',\n",
       " 'supplier']"
      ]
     },
     "execution_count": 3,
     "metadata": {},
     "output_type": "execute_result"
    }
   ],
   "source": [
    "d.fields"
   ]
  },
  {
   "cell_type": "markdown",
   "metadata": {},
   "source": [
    "# Queries"
   ]
  },
  {
   "cell_type": "markdown",
   "metadata": {},
   "source": [
    "## 1"
   ]
  },
  {
   "cell_type": "code",
   "execution_count": 4,
   "metadata": {
    "collapsed": false
   },
   "outputs": [
    {
     "ename": "IndentationError",
     "evalue": "unexpected indent (<ipython-input-4-6b0472d7f05d>, line 2)",
     "output_type": "error",
     "traceback": [
      "\u001b[0;36m  File \u001b[0;32m\"<ipython-input-4-6b0472d7f05d>\"\u001b[0;36m, line \u001b[0;32m2\u001b[0m\n\u001b[0;31m    l_returnflag,\u001b[0m\n\u001b[0m    ^\u001b[0m\n\u001b[0;31mIndentationError\u001b[0m\u001b[0;31m:\u001b[0m unexpected indent\n"
     ]
    }
   ],
   "source": [
    "select\n",
    "        l_returnflag,\n",
    "        l_linestatus,\n",
    "        sum(l_quantity) as sum_qty,\n",
    "        sum(l_extendedprice) as sum_base_price,\n",
    "        sum(l_extendedprice * (1 - l_discount)) as sum_disc_price,\n",
    "        sum(l_extendedprice * (1 - l_discount) * (1 + l_tax)) as sum_charge,\n",
    "        avg(l_quantity) as avg_qty,\n",
    "        avg(l_extendedprice) as avg_price,\n",
    "        avg(l_discount) as avg_disc,\n",
    "        count(*) as count_order\n",
    "from\n",
    "        lineitem\n",
    "where\n",
    "        l_shipdate <= date '1998-12-01' - interval ':1' day (3)\n",
    "group by\n",
    "        l_returnflag,\n",
    "        l_linestatus\n",
    "order by\n",
    "        l_returnflag,\n",
    "        l_linestatus;"
   ]
  },
  {
   "cell_type": "code",
   "execution_count": 8,
   "metadata": {
    "collapsed": false
   },
   "outputs": [
    {
     "name": "stdout",
     "output_type": "stream",
     "text": [
      "SELECT anon_1.return_flag, anon_1.line_status, anon_1.avg_disc, anon_1.avg_price, anon_1.avg_qty, anon_1.count_order, anon_1.sum_base_price, anon_1.sum_charge, anon_1.sum_disc_price, anon_1.sum_qty \n",
      "FROM (SELECT lineitem.return_flag AS return_flag, lineitem.line_status AS line_status, avg(lineitem.discount) AS avg_disc, avg(lineitem.extended_price) AS avg_price, avg(lineitem.quantity) AS avg_qty, count(lineitem.order_id) AS count_order, sum(lineitem.extended_price) AS sum_base_price, sum(lineitem.extended_price * (%(discount_1)s - lineitem.discount) * (%(tax_1)s + lineitem.tax)) AS sum_charge, sum(lineitem.extended_price * (%(discount_2)s - lineitem.discount)) AS sum_disc_price, sum(lineitem.quantity) AS sum_qty \n",
      "FROM lineitem \n",
      "WHERE lineitem.ship_date <= %(ship_date_1)s GROUP BY lineitem.return_flag, lineitem.line_status) AS anon_1 ORDER BY anon_1.return_flag ASC, anon_1.line_status ASC\n"
     ]
    }
   ],
   "source": [
    "subset = d.lineitem[d.lineitem.ship_date <= pd.Timestamp('1998-12-01') - pd.Timedelta('3 days')]\n",
    "grouped = by(subset[['return_flag', 'line_status']],\n",
    "             sum_qty=subset.quantity.sum(),\n",
    "             sum_base_price=subset.extended_price.sum(),\n",
    "             sum_disc_price=(subset.extended_price * (1 - subset.discount)).sum(),\n",
    "             sum_charge=(subset.extended_price * (1 - subset.discount) * (1 + subset.tax)).sum(),\n",
    "             avg_qty=subset.quantity.mean(),\n",
    "             avg_price=subset.extended_price.mean(),\n",
    "             avg_disc=subset.discount.mean(),\n",
    "             count_order=subset.order_id.count())\n",
    "result = grouped.sort(['return_flag', 'line_status'])\n",
    "print(compute(result))"
   ]
  },
  {
   "cell_type": "code",
   "execution_count": 9,
   "metadata": {
    "collapsed": false
   },
   "outputs": [
    {
     "data": {
      "text/html": [
       "<table border=\"1\" class=\"dataframe\">\n",
       "  <thead>\n",
       "    <tr style=\"text-align: right;\">\n",
       "      <th></th>\n",
       "      <th>return_flag</th>\n",
       "      <th>line_status</th>\n",
       "      <th>avg_disc</th>\n",
       "      <th>avg_price</th>\n",
       "      <th>avg_qty</th>\n",
       "      <th>count_order</th>\n",
       "      <th>sum_base_price</th>\n",
       "      <th>sum_charge</th>\n",
       "      <th>sum_disc_price</th>\n",
       "      <th>sum_qty</th>\n",
       "    </tr>\n",
       "  </thead>\n",
       "  <tbody>\n",
       "    <tr>\n",
       "      <th>0</th>\n",
       "      <td>A</td>\n",
       "      <td>F</td>\n",
       "      <td>0.04998529583839761162</td>\n",
       "      <td>38273.129734621672</td>\n",
       "      <td>25.5220058532573370</td>\n",
       "      <td>1478493</td>\n",
       "      <td>56586554400.73</td>\n",
       "      <td>55909065222.827692</td>\n",
       "      <td>53758257134.8700</td>\n",
       "      <td>37734107.00</td>\n",
       "    </tr>\n",
       "    <tr>\n",
       "      <th>1</th>\n",
       "      <td>N</td>\n",
       "      <td>F</td>\n",
       "      <td>0.05009342667421629691</td>\n",
       "      <td>38284.467760848304</td>\n",
       "      <td>25.5164719205229835</td>\n",
       "      <td>38854</td>\n",
       "      <td>1487504710.38</td>\n",
       "      <td>1469649223.194375</td>\n",
       "      <td>1413082168.0541</td>\n",
       "      <td>991417.00</td>\n",
       "    </tr>\n",
       "    <tr>\n",
       "      <th>2</th>\n",
       "      <td>N</td>\n",
       "      <td>O</td>\n",
       "      <td>0.05000004991846650471</td>\n",
       "      <td>38248.108587330693</td>\n",
       "      <td>25.5020875902692269</td>\n",
       "      <td>3004900</td>\n",
       "      <td>114931741494.07</td>\n",
       "      <td>113557617182.748041</td>\n",
       "      <td>109186320121.3072</td>\n",
       "      <td>76631223.00</td>\n",
       "    </tr>\n",
       "    <tr>\n",
       "      <th>3</th>\n",
       "      <td>R</td>\n",
       "      <td>F</td>\n",
       "      <td>0.05000940583012705647</td>\n",
       "      <td>38250.854626099657</td>\n",
       "      <td>25.5057936126907707</td>\n",
       "      <td>1478870</td>\n",
       "      <td>56568041380.90</td>\n",
       "      <td>55889619119.831932</td>\n",
       "      <td>53741292684.6040</td>\n",
       "      <td>37719753.00</td>\n",
       "    </tr>\n",
       "  </tbody>\n",
       "</table>"
      ],
      "text/plain": [
       "  return_flag line_status                avg_disc           avg_price  \\\n",
       "0           A           F  0.04998529583839761162  38273.129734621672   \n",
       "1           N           F  0.05009342667421629691  38284.467760848304   \n",
       "2           N           O  0.05000004991846650471  38248.108587330693   \n",
       "3           R           F  0.05000940583012705647  38250.854626099657   \n",
       "\n",
       "               avg_qty  count_order   sum_base_price           sum_charge  \\\n",
       "0  25.5220058532573370      1478493   56586554400.73   55909065222.827692   \n",
       "1  25.5164719205229835        38854    1487504710.38    1469649223.194375   \n",
       "2  25.5020875902692269      3004900  114931741494.07  113557617182.748041   \n",
       "3  25.5057936126907707      1478870   56568041380.90   55889619119.831932   \n",
       "\n",
       "      sum_disc_price      sum_qty  \n",
       "0   53758257134.8700  37734107.00  \n",
       "1    1413082168.0541    991417.00  \n",
       "2  109186320121.3072  76631223.00  \n",
       "3   53741292684.6040  37719753.00  "
      ]
     },
     "execution_count": 9,
     "metadata": {},
     "output_type": "execute_result"
    }
   ],
   "source": [
    "result"
   ]
  },
  {
   "cell_type": "markdown",
   "metadata": {
    "collapsed": true
   },
   "source": [
    "## 4"
   ]
  },
  {
   "cell_type": "code",
   "execution_count": null,
   "metadata": {
    "collapsed": true
   },
   "outputs": [],
   "source": [
    "select\n",
    "        o_orderpriority,\n",
    "        count(*) as order_count\n",
    "from\n",
    "        orders\n",
    "where\n",
    "        o_orderdate >= date ':1'\n",
    "        and o_orderdate < date ':1' + interval '3' month\n",
    "        and exists (\n",
    "                select\n",
    "                        *\n",
    "                from\n",
    "                        lineitem\n",
    "                where\n",
    "                        l_orderkey = o_orderkey\n",
    "                        and l_commitdate < l_receiptdate\n",
    "        )\n",
    "group by\n",
    "        o_orderpriority\n",
    "order by\n",
    "        o_orderpriority;"
   ]
  },
  {
   "cell_type": "code",
   "execution_count": null,
   "metadata": {
    "collapsed": true
   },
   "outputs": [],
   "source": [
    "subset = d.orders[(d.orders.order_date >= ) & ()].count_lu\n",
    "result = subset.order_priority).count_values()"
   ]
  }
 ],
 "metadata": {
  "kernelspec": {
   "display_name": "IPython (Python 2)",
   "language": "python",
   "name": "python2"
  },
  "language_info": {
   "codemirror_mode": {
    "name": "ipython",
    "version": 2
   },
   "file_extension": ".py",
   "mimetype": "text/x-python",
   "name": "python",
   "nbconvert_exporter": "python",
   "pygments_lexer": "ipython2",
   "version": "2.7.10"
  }
 },
 "nbformat": 4,
 "nbformat_minor": 0
}
